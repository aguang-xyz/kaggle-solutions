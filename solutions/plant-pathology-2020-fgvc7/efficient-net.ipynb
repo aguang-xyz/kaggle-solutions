{
 "cells": [
  {
   "cell_type": "code",
   "execution_count": 1,
   "metadata": {},
   "outputs": [],
   "source": [
    "import numpy as np\n",
    "import pandas as pd\n",
    "import matplotlib.pyplot as plt\n",
    "import torch\n",
    "from tqdm import tqdm\n",
    "from efficientnet_pytorch import EfficientNet"
   ]
  },
  {
   "cell_type": "markdown",
   "metadata": {},
   "source": [
    "# Plant Pathology 2020 - FGVC7"
   ]
  },
  {
   "cell_type": "markdown",
   "metadata": {},
   "source": [
    "Here are some basic configurations:\n",
    "* With the option `LOCAL = True`, we use `efficientnet-b5` as the backbone running on `CPU` to train model with `batch_size = 1` and `epoch_time = 1` to pre-validate the code.\n",
    "* With the option `LOCAL = False`, we use `efficientnet-b5` as the backbone running on `GPU` to train model with `batch_size = 10` and `epoch_time = 20` to make accurate predictions."
   ]
  },
  {
   "cell_type": "markdown",
   "metadata": {},
   "source": [
    "Once the `DEBUG` option is on, nothing will be stored into the file system."
   ]
  },
  {
   "cell_type": "code",
   "execution_count": 2,
   "metadata": {},
   "outputs": [],
   "source": [
    "LOCAL = True\n",
    "DEBUG = False\n",
    "\n",
    "DEVICE = torch.device('cpu' if LOCAL else 'cuda')\n",
    "MODEL = 'efficientnet-b5'\n",
    "\n",
    "BATCH_SIZE = 1 if LOCAL else 10\n",
    "EPOCH_TIME = 1 if LOCAL else 20\n",
    "\n",
    "INPUT_DIR = './dataset' if LOCAL else '/kaggle/input/plant-pathology-2020-fgvc7'\n",
    "INPUT_SIZE = EfficientNet.get_image_size(MODEL)"
   ]
  },
  {
   "cell_type": "markdown",
   "metadata": {},
   "source": [
    "## Data Preprocessing"
   ]
  },
  {
   "cell_type": "markdown",
   "metadata": {},
   "source": [
    "`80%` of the training set will be used for `training`, and the other `20%` will be used for `validation`.\n",
    "\n",
    "Besides, we'll use these randomly ordered methods to augment training sets:\n",
    "\n",
    "* ColorJitter\n",
    "* RandomGreyscale\n",
    "* RandomHorizontalFlip\n",
    "* RandomVerticalFlip\n",
    "* RandomRotation\n",
    "* RandomPerspective\n",
    "\n",
    "With the option `DEBUG = True`, only the first `5 * BATCH_SIZE` rows of data will be loaded."
   ]
  },
  {
   "cell_type": "code",
   "execution_count": 3,
   "metadata": {},
   "outputs": [],
   "source": [
    "from torch.utils.data import Dataset, random_split\n",
    "from torchvision.transforms import RandomOrder, ColorJitter, RandomHorizontalFlip, RandomVerticalFlip, RandomGrayscale, RandomPerspective, RandomRotation\n",
    "from torchvision.transforms import Compose, Resize, Normalize, ToTensor\n",
    "from PIL import Image\n",
    "\n",
    "class PlantDataset(Dataset):\n",
    "    \n",
    "    def __init__(self, train = True):\n",
    "        \n",
    "        self.train = train\n",
    "        \n",
    "        self.dataset = pd.read_csv('{}/{}.csv'.format(INPUT_DIR, ('train' if train else 'test')))\n",
    "        \n",
    "        if DEBUG:\n",
    "            self.dataset = self.dataset.head(n = 5 * BATCH_SIZE)\n",
    "        \n",
    "        if self.train:\n",
    "            \n",
    "            self.augment = RandomOrder([\n",
    "                ColorJitter(brightness = 0.5, contrast = 0.5, saturation = 0.5, hue = 0.1),\n",
    "                RandomGrayscale(),\n",
    "                RandomHorizontalFlip(),\n",
    "                RandomVerticalFlip(),\n",
    "                RandomRotation((-180, +180)),\n",
    "                RandomPerspective(),\n",
    "            ])\n",
    "            \n",
    "        self.transform = Compose([\n",
    "            Resize((INPUT_SIZE, INPUT_SIZE)),\n",
    "            ToTensor(),\n",
    "            Normalize((0.485, 0.456, 0.406), (0.229, 0.224, 0.225)),\n",
    "        ])\n",
    "        \n",
    "    def __len__(self):\n",
    "        \n",
    "        return self.dataset.shape[0]\n",
    "    \n",
    "    def __getitem__(self, index):\n",
    "        \n",
    "        image = Image.open('{}/images/{}.jpg'.format(INPUT_DIR, self.dataset.loc[index, 'image_id']))\n",
    "        \n",
    "        if self.train:\n",
    "            image = self.augment(image)\n",
    "        \n",
    "        image = self.transform(image)\n",
    "        \n",
    "        if self.train:\n",
    "            \n",
    "            label = np.argmax(self.dataset.loc[index, ['healthy', 'multiple_diseases', 'rust', 'scab']].values)\n",
    "            \n",
    "            return image, label\n",
    "        else:\n",
    "            return image, index\n",
    "\n",
    "train_raw = PlantDataset(train = True)\n",
    "test_raw = PlantDataset(train = False)\n",
    "\n",
    "train_set, test_set = random_split(train_raw, [int(0.8 * len(train_raw)), len(train_raw) - int(0.8 * len(train_raw))])"
   ]
  },
  {
   "cell_type": "markdown",
   "metadata": {},
   "source": [
    "## Model Validation"
   ]
  },
  {
   "cell_type": "markdown",
   "metadata": {},
   "source": [
    "We use `20%` of the training set to validate the accuracy of the model."
   ]
  },
  {
   "cell_type": "code",
   "execution_count": 4,
   "metadata": {},
   "outputs": [],
   "source": [
    "def validate(model, loader, pbar = None):\n",
    "\n",
    "    if pbar is None:\n",
    "        with tqdm(total = len(loader) * BATCH_SIZE) as pbar:\n",
    "            return validate(model, loader, pbar)\n",
    "        \n",
    "    correct, total = 0, 0\n",
    "            \n",
    "    with torch.no_grad():\n",
    "        for images, labels in loader:\n",
    "\n",
    "            outputs = model(images.to(DEVICE).float())\n",
    "\n",
    "            _, predictions = torch.max(outputs.data, 1)\n",
    "\n",
    "            predictions = predictions.cpu().numpy()\n",
    "\n",
    "            for idx, prediction in enumerate(predictions):\n",
    "\n",
    "                if prediction == labels[idx]:\n",
    "                    correct = correct + 1\n",
    "\n",
    "                total = total + 1\n",
    "\n",
    "            pbar.update(BATCH_SIZE)\n",
    "                \n",
    "    return correct / total"
   ]
  },
  {
   "cell_type": "markdown",
   "metadata": {},
   "source": [
    "## Model Training"
   ]
  },
  {
   "cell_type": "markdown",
   "metadata": {},
   "source": [
    "The training process will iterate for `EPOCH` times, every time we use `80%` of the training data to train the model and use the other `20%` to validate the accuracy. Before the training process, the program will try to load the previous checkpoint if it exists; and after the training process, it will save a new checkpoint.\n",
    "\n",
    "* With the option `LOCAL = True`, the program won't train again if there is a previous checkpoint to save time.\n",
    "* With the option `DEBUG = True`, no checkpoints will be stored."
   ]
  },
  {
   "cell_type": "code",
   "execution_count": 5,
   "metadata": {},
   "outputs": [],
   "source": [
    "!mkdir -p ./checkpoints"
   ]
  },
  {
   "cell_type": "code",
   "execution_count": 6,
   "metadata": {},
   "outputs": [],
   "source": [
    "import os\n",
    "import json\n",
    "from torch.utils.data import DataLoader\n",
    "from torch.optim import Adam\n",
    "from torch.nn import CrossEntropyLoss\n",
    "\n",
    "def train(model, train_set, test_set, label = None, ax = None):\n",
    "\n",
    "    if (label is not None) and os.path.isfile('./checkpoints/{}.ckpt'.format(label)):\n",
    "        model.load_state_dict(torch.load('./checkpoints/{}.ckpt'.format(label)))\n",
    "    \n",
    "    criterion = CrossEntropyLoss()\n",
    "    optimizer = Adam(model.parameters())\n",
    "    \n",
    "    scores, losses = [], []\n",
    "    \n",
    "    if (label is not None) and os.path.isfile('./checkpoints/{}.scores.json'.format(label)):\n",
    "        with open('./checkpoints/{}.scores.json'.format(label), 'r') as file:\n",
    "            scores = json.load(file)\n",
    "            \n",
    "    if (label is not None) and os.path.isfile('./checkpoints/{}.losses.json'.format(label)):\n",
    "        with open('./checkpoints/{}.losses.json'.format(label), 'r') as file:\n",
    "            losses = json.load(file)\n",
    "    \n",
    "    train_loader = DataLoader(train_set, batch_size = BATCH_SIZE)\n",
    "    test_loader = DataLoader(test_set, batch_size = BATCH_SIZE)\n",
    "    \n",
    "    if (not LOCAL) or (len(scores) == 0 and len(scores) == 0):\n",
    "    \n",
    "        with tqdm(total = EPOCH_TIME * (len(train_loader) + len(test_loader)) * BATCH_SIZE) as pbar:\n",
    "            for epoch in range(0, EPOCH_TIME):\n",
    "\n",
    "                for idx, (images, labels) in enumerate(train_loader):\n",
    "\n",
    "                    outputs = model(images.to(DEVICE).float())\n",
    "                    loss = criterion(outputs, labels.to(DEVICE))\n",
    "\n",
    "                    optimizer.zero_grad()\n",
    "                    loss.backward()\n",
    "                    optimizer.step()\n",
    "\n",
    "                    pbar.update(BATCH_SIZE)\n",
    "\n",
    "                loss = loss.cpu().item()\n",
    "                score = validate(model, test_loader, pbar)\n",
    "\n",
    "                pbar.set_postfix(loss = loss, score = score)\n",
    "\n",
    "                losses.append(loss)\n",
    "                scores.append(score)\n",
    "    \n",
    "    if (not DEBUG) and (label is not None):\n",
    "        \n",
    "        torch.save(model.state_dict(),'./checkpoints/{}.ckpt'.format(label))\n",
    "\n",
    "        with open('./checkpoints/{}.scores.json'.format(label), 'w') as file:\n",
    "            json.dump(scores, file)\n",
    "            \n",
    "        with open('./checkpoints/{}.losses.json'.format(label), 'w') as file:\n",
    "            json.dump(losses, file)\n",
    "        \n",
    "    if ax is not None:\n",
    "        \n",
    "        ax.plot(scores, label = 'score')\n",
    "        ax.plot(losses, label = 'loss')\n",
    "\n",
    "        ax.legend()"
   ]
  },
  {
   "cell_type": "markdown",
   "metadata": {},
   "source": [
    "## Prediction"
   ]
  },
  {
   "cell_type": "markdown",
   "metadata": {},
   "source": [
    "In prediction process, we use `softmax` to convert the output to suitable probabilities."
   ]
  },
  {
   "cell_type": "code",
   "execution_count": 7,
   "metadata": {},
   "outputs": [],
   "source": [
    "from torch.utils.data import DataLoader\n",
    "from scipy.special import softmax\n",
    "\n",
    "def predict(model, dataset, pbar = None):\n",
    "\n",
    "    if pbar is None:\n",
    "        with tqdm(total = len(dataset)) as pbar:\n",
    "            return predict(model, dataset, pbar)\n",
    "        \n",
    "    submission = pd.DataFrame(np.nan, index = np.arange(0, len(dataset)), columns = ['image_id', 'healthy', 'multiple_diseases', 'rust', 'scab'])\n",
    "    \n",
    "    with torch.no_grad():\n",
    "        for images, labels in DataLoader(dataset, batch_size = BATCH_SIZE):\n",
    "\n",
    "            outputs = model(images.to(DEVICE).float()).data.cpu().numpy()\n",
    "            \n",
    "            for idx, prediction in enumerate(outputs):\n",
    "                \n",
    "                submission.loc[labels[idx].item(), ['healthy', 'multiple_diseases', 'rust', 'scab']] = prediction\n",
    "\n",
    "            pbar.update(len(labels))\n",
    "    \n",
    "    submission[['healthy', 'multiple_diseases', 'rust', 'scab']] = softmax(submission[['healthy', 'multiple_diseases', 'rust', 'scab']].values, 1)\n",
    "    \n",
    "    for idx in range(0, len(dataset)):\n",
    "        submission.loc[idx, 'image_id'] = 'Test_{}'.format(idx)\n",
    "           \n",
    "    return submission"
   ]
  },
  {
   "cell_type": "markdown",
   "metadata": {},
   "source": [
    "## Result"
   ]
  },
  {
   "cell_type": "code",
   "execution_count": 8,
   "metadata": {},
   "outputs": [
    {
     "name": "stdout",
     "output_type": "stream",
     "text": [
      "Loaded pretrained weights for efficientnet-b5\n"
     ]
    }
   ],
   "source": [
    "efficient_net = EfficientNet.from_pretrained(MODEL, num_classes = 4).to(DEVICE)"
   ]
  },
  {
   "cell_type": "code",
   "execution_count": 9,
   "metadata": {},
   "outputs": [
    {
     "data": {
      "image/png": "[encoded data removed]",
      "text/plain": [
       "<Figure size 432x288 with 1 Axes>"
      ]
     },
     "metadata": {
      "needs_background": "light"
     },
     "output_type": "display_data"
    }
   ],
   "source": [
    "train(efficient_net, train_set, test_set, label = MODEL, ax = plt.subplot())"
   ]
  },
  {
   "cell_type": "code",
   "execution_count": 10,
   "metadata": {},
   "outputs": [
    {
     "name": "stderr",
     "output_type": "stream",
     "text": [
      "100%|██████████| 1821/1821 [20:21<00:00,  1.49it/s]\n"
     ]
    },
    {
     "data": {
      "text/html": [
       "<div>\n",
       "<style scoped>\n",
       "    .dataframe tbody tr th:only-of-type {\n",
       "        vertical-align: middle;\n",
       "    }\n",
       "\n",
       "    .dataframe tbody tr th {\n",
       "        vertical-align: top;\n",
       "    }\n",
       "\n",
       "    .dataframe thead th {\n",
       "        text-align: right;\n",
       "    }\n",
       "</style>\n",
       "<table border=\"1\" class=\"dataframe\">\n",
       "  <thead>\n",
       "    <tr style=\"text-align: right;\">\n",
       "      <th></th>\n",
       "      <th>image_id</th>\n",
       "      <th>healthy</th>\n",
       "      <th>multiple_diseases</th>\n",
       "      <th>rust</th>\n",
       "      <th>scab</th>\n",
       "    </tr>\n",
       "  </thead>\n",
       "  <tbody>\n",
       "    <tr>\n",
       "      <th>0</th>\n",
       "      <td>Test_0</td>\n",
       "      <td>0.009750</td>\n",
       "      <td>0.047512</td>\n",
       "      <td>0.940279</td>\n",
       "      <td>0.002459</td>\n",
       "    </tr>\n",
       "    <tr>\n",
       "      <th>1</th>\n",
       "      <td>Test_1</td>\n",
       "      <td>0.007526</td>\n",
       "      <td>0.126030</td>\n",
       "      <td>0.849131</td>\n",
       "      <td>0.017314</td>\n",
       "    </tr>\n",
       "    <tr>\n",
       "      <th>2</th>\n",
       "      <td>Test_2</td>\n",
       "      <td>0.012993</td>\n",
       "      <td>0.156468</td>\n",
       "      <td>0.811401</td>\n",
       "      <td>0.019138</td>\n",
       "    </tr>\n",
       "    <tr>\n",
       "      <th>3</th>\n",
       "      <td>Test_3</td>\n",
       "      <td>0.046129</td>\n",
       "      <td>0.053460</td>\n",
       "      <td>0.894425</td>\n",
       "      <td>0.005987</td>\n",
       "    </tr>\n",
       "    <tr>\n",
       "      <th>4</th>\n",
       "      <td>Test_4</td>\n",
       "      <td>0.005067</td>\n",
       "      <td>0.055575</td>\n",
       "      <td>0.936101</td>\n",
       "      <td>0.003257</td>\n",
       "    </tr>\n",
       "    <tr>\n",
       "      <th>...</th>\n",
       "      <td>...</td>\n",
       "      <td>...</td>\n",
       "      <td>...</td>\n",
       "      <td>...</td>\n",
       "      <td>...</td>\n",
       "    </tr>\n",
       "    <tr>\n",
       "      <th>1816</th>\n",
       "      <td>Test_1816</td>\n",
       "      <td>0.007419</td>\n",
       "      <td>0.090349</td>\n",
       "      <td>0.894717</td>\n",
       "      <td>0.007515</td>\n",
       "    </tr>\n",
       "    <tr>\n",
       "      <th>1817</th>\n",
       "      <td>Test_1817</td>\n",
       "      <td>0.018814</td>\n",
       "      <td>0.248996</td>\n",
       "      <td>0.681831</td>\n",
       "      <td>0.050359</td>\n",
       "    </tr>\n",
       "    <tr>\n",
       "      <th>1818</th>\n",
       "      <td>Test_1818</td>\n",
       "      <td>0.004277</td>\n",
       "      <td>0.043424</td>\n",
       "      <td>0.950170</td>\n",
       "      <td>0.002130</td>\n",
       "    </tr>\n",
       "    <tr>\n",
       "      <th>1819</th>\n",
       "      <td>Test_1819</td>\n",
       "      <td>0.033368</td>\n",
       "      <td>0.088123</td>\n",
       "      <td>0.871485</td>\n",
       "      <td>0.007024</td>\n",
       "    </tr>\n",
       "    <tr>\n",
       "      <th>1820</th>\n",
       "      <td>Test_1820</td>\n",
       "      <td>0.022481</td>\n",
       "      <td>0.397985</td>\n",
       "      <td>0.390861</td>\n",
       "      <td>0.188674</td>\n",
       "    </tr>\n",
       "  </tbody>\n",
       "</table>\n",
       "<p>1821 rows × 5 columns</p>\n",
       "</div>"
      ],
      "text/plain": [
       "       image_id   healthy  multiple_diseases      rust      scab\n",
       "0        Test_0  0.009750           0.047512  0.940279  0.002459\n",
       "1        Test_1  0.007526           0.126030  0.849131  0.017314\n",
       "2        Test_2  0.012993           0.156468  0.811401  0.019138\n",
       "3        Test_3  0.046129           0.053460  0.894425  0.005987\n",
       "4        Test_4  0.005067           0.055575  0.936101  0.003257\n",
       "...         ...       ...                ...       ...       ...\n",
       "1816  Test_1816  0.007419           0.090349  0.894717  0.007515\n",
       "1817  Test_1817  0.018814           0.248996  0.681831  0.050359\n",
       "1818  Test_1818  0.004277           0.043424  0.950170  0.002130\n",
       "1819  Test_1819  0.033368           0.088123  0.871485  0.007024\n",
       "1820  Test_1820  0.022481           0.397985  0.390861  0.188674\n",
       "\n",
       "[1821 rows x 5 columns]"
      ]
     },
     "execution_count": 10,
     "metadata": {},
     "output_type": "execute_result"
    }
   ],
   "source": [
    "submission = predict(efficient_net, test_raw)\n",
    "\n",
    "if not DEBUG:\n",
    "    submission.to_csv('./dataset/submission_{}.csv'.format(MODEL), index = False)\n",
    "\n",
    "submission"
   ]
  }
 ],
 "metadata": {
  "kernelspec": {
   "display_name": "Python 3",
   "language": "python",
   "name": "python3"
  },
  "language_info": {
   "codemirror_mode": {
    "name": "ipython",
    "version": 3
   },
   "file_extension": ".py",
   "mimetype": "text/x-python",
   "name": "python",
   "nbconvert_exporter": "python",
   "pygments_lexer": "ipython3",
   "version": "3.8.2"
  }
 },
 "nbformat": 4,
 "nbformat_minor": 4
}
