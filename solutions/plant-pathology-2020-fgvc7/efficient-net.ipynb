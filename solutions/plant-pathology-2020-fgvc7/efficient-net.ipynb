{
 "cells": [
  {
   "cell_type": "code",
   "execution_count": 1,
   "metadata": {},
   "outputs": [],
   "source": [
    "import numpy as np\n",
    "import pandas as pd\n",
    "import matplotlib.pyplot as plt\n",
    "import torch\n",
    "from tqdm import tqdm\n",
    "from efficientnet_pytorch import EfficientNet"
   ]
  },
  {
   "cell_type": "markdown",
   "metadata": {},
   "source": [
    "# Plant Pathology 2020 - FGVC7"
   ]
  },
  {
   "cell_type": "code",
   "execution_count": 2,
   "metadata": {},
   "outputs": [],
   "source": [
    "MODEL_NAME = 'efficientnet-b1'\n",
    "\n",
    "BATCH_SIZE = 1\n",
    "INPUT_SIZE = EfficientNet.get_image_size(MODEL_NAME)\n",
    "EPOCH_TIME = 30\n",
    "\n",
    "DEVICE = torch.device('cuda')"
   ]
  },
  {
   "cell_type": "markdown",
   "metadata": {},
   "source": [
    "## Data Loading"
   ]
  },
  {
   "cell_type": "markdown",
   "metadata": {},
   "source": [
    "The code above shows how I load the data sets. 80% of the training set will be used for training, and the other 20% will be used for validation.\n",
    "\n",
    "Besides, I use these methods to augment training sets:\n",
    "\n",
    "* RandomGreyscale\n",
    "* RandomHorizontalFlip\n",
    "* RandomVerticalFlip\n",
    "* RandomRotation\n",
    "* RandomPerspective\n"
   ]
  },
  {
   "cell_type": "code",
   "execution_count": 3,
   "metadata": {},
   "outputs": [],
   "source": [
    "from torch.utils.data import Dataset, random_split\n",
    "from torchvision.transforms import RandomHorizontalFlip, RandomVerticalFlip, RandomGrayscale, RandomPerspective, RandomRotation\n",
    "from torchvision.transforms import Compose, Resize, Normalize, ToTensor\n",
    "from PIL import Image\n",
    "\n",
    "\n",
    "class PlantDataset(Dataset):\n",
    "    \n",
    "    def __init__(self, train = True):\n",
    "        \n",
    "        self.train = train\n",
    "        \n",
    "        self.dataset = pd.read_csv('./dataset/{}.csv'.format('train' if train else 'test'))\n",
    "        \n",
    "        if self.train:\n",
    "            \n",
    "            self.augment = Compose([\n",
    "                RandomGrayscale(),\n",
    "                RandomHorizontalFlip(),\n",
    "                RandomVerticalFlip(),\n",
    "                RandomRotation((-180, +180)),\n",
    "                RandomPerspective(),\n",
    "            ])\n",
    "            \n",
    "        self.transform = Compose([\n",
    "            Resize((INPUT_SIZE, INPUT_SIZE)),\n",
    "            ToTensor(),\n",
    "            Normalize((0.485, 0.456, 0.406), (0.229, 0.224, 0.225)),\n",
    "        ])\n",
    "        \n",
    "    def __len__(self):\n",
    "        \n",
    "        return self.dataset.shape[0]\n",
    "    \n",
    "    def __getitem__(self, index):\n",
    "        \n",
    "        image = Image.open('./dataset/images/{}.jpg'.format(self.dataset.loc[index, 'image_id']))\n",
    "        \n",
    "        if self.train:\n",
    "            image = self.augment(image)\n",
    "        \n",
    "        image = self.transform(image)\n",
    "        \n",
    "        if self.train:\n",
    "            \n",
    "            label = np.argmax(self.dataset.loc[index, ['healthy', 'multiple_diseases', 'rust', 'scab']].values)\n",
    "            \n",
    "            return image, label\n",
    "        else:\n",
    "            return image, index"
   ]
  },
  {
   "cell_type": "markdown",
   "metadata": {},
   "source": [
    "## Model Validation"
   ]
  },
  {
   "cell_type": "code",
   "execution_count": 4,
   "metadata": {},
   "outputs": [],
   "source": [
    "def validate(model, loader, pbar = None):\n",
    "\n",
    "    if pbar is None:\n",
    "        with tqdm(total = len(loader) * BATCH_SIZE) as pbar:\n",
    "            return validate(model, loader, pbar)\n",
    "        \n",
    "    correct, total = 0, 0\n",
    "            \n",
    "    with torch.no_grad():\n",
    "        for images, labels in loader:\n",
    "\n",
    "            outputs = model(images.to(DEVICE).float())\n",
    "\n",
    "            _, predictions = torch.max(outputs.data, 1)\n",
    "\n",
    "            predictions = predictions.cpu().numpy()\n",
    "\n",
    "            for idx, prediction in enumerate(predictions):\n",
    "\n",
    "                if prediction == labels[idx]:\n",
    "                    correct = correct + 1\n",
    "\n",
    "                total = total + 1\n",
    "\n",
    "            pbar.update(BATCH_SIZE)\n",
    "                \n",
    "    return correct / total"
   ]
  },
  {
   "cell_type": "markdown",
   "metadata": {},
   "source": [
    "## Model Training"
   ]
  },
  {
   "cell_type": "code",
   "execution_count": 5,
   "metadata": {},
   "outputs": [],
   "source": [
    "import os\n",
    "import json\n",
    "from torch.utils.data import DataLoader\n",
    "from torch.optim import Adam\n",
    "from torch.nn import CrossEntropyLoss\n",
    "\n",
    "\n",
    "def train(model, train_set, test_set, label = None, ax = None, again = False):\n",
    "\n",
    "    if (label is not None) and os.path.isfile('./checkpoints/{}.ckpt'.format(label)):\n",
    "        model.load_state_dict(torch.load('./checkpoints/{}.ckpt'.format(label)))\n",
    "    \n",
    "    criterion = CrossEntropyLoss()\n",
    "    optimizer = Adam(model.parameters())\n",
    "    \n",
    "    scores, losses = [], []\n",
    "    \n",
    "    if (label is not None) and os.path.isfile('./checkpoints/{}.scores.json'.format(label)):\n",
    "        with open('./checkpoints/{}.scores.json'.format(label), 'r') as file:\n",
    "            scores = json.load(file)\n",
    "            \n",
    "    if (label is not None) and os.path.isfile('./checkpoints/{}.losses.json'.format(label)):\n",
    "        with open('./checkpoints/{}.losses.json'.format(label), 'r') as file:\n",
    "            losses = json.load(file)\n",
    "    \n",
    "    train_loader = DataLoader(train_set, batch_size = BATCH_SIZE)\n",
    "    test_loader = DataLoader(test_set, batch_size = BATCH_SIZE)\n",
    "    \n",
    "    if again or (len(scores) == 0 and len(scores) == 0):\n",
    "    \n",
    "        with tqdm(total = EPOCH_TIME * (len(train_loader) + len(test_loader)) * BATCH_SIZE) as pbar:\n",
    "            for epoch in range(0, EPOCH_TIME):\n",
    "\n",
    "                for idx, (images, labels) in enumerate(train_loader):\n",
    "\n",
    "                    outputs = model(images.to(DEVICE).float())\n",
    "                    loss = criterion(outputs, labels.to(DEVICE))\n",
    "\n",
    "                    optimizer.zero_grad()\n",
    "                    loss.backward()\n",
    "                    optimizer.step()\n",
    "\n",
    "                    pbar.update(BATCH_SIZE)\n",
    "\n",
    "                loss = loss.cpu().item()\n",
    "                score = validate(model, test_loader, pbar)\n",
    "\n",
    "                pbar.set_postfix(loss = loss, score = score)\n",
    "\n",
    "                losses.append(loss)\n",
    "                scores.append(score)\n",
    "    \n",
    "    if label is not None:\n",
    "        \n",
    "        torch.save(model.state_dict(),'./checkpoints/{}.ckpt'.format(label))\n",
    "\n",
    "        with open('./checkpoints/{}.scores.json'.format(label), 'w') as file:\n",
    "            json.dump(scores, file)\n",
    "            \n",
    "        with open('./checkpoints/{}.losses.json'.format(label), 'w') as file:\n",
    "            json.dump(losses, file)\n",
    "        \n",
    "    if ax is not None:\n",
    "        \n",
    "        ax.plot(scores, label = 'score')\n",
    "        ax.plot(losses, label = 'loss')\n",
    "\n",
    "        ax.legend()"
   ]
  },
  {
   "cell_type": "markdown",
   "metadata": {},
   "source": [
    "## Prediction"
   ]
  },
  {
   "cell_type": "code",
   "execution_count": 9,
   "metadata": {},
   "outputs": [],
   "source": [
    "from torch.utils.data import DataLoader\n",
    "\n",
    "\n",
    "def predict(model, dataset, pbar = None):\n",
    "\n",
    "    if pbar is None:\n",
    "        with tqdm(total = len(dataset)) as pbar:\n",
    "            return predict(model, dataset, pbar)\n",
    "        \n",
    "    submission = pd.DataFrame(np.nan, index = np.arange(0, len(dataset)), columns = ['image_id', 'healthy', 'multiple_diseases', 'rust', 'scab'])\n",
    "    \n",
    "    with torch.no_grad():\n",
    "        for images, labels in DataLoader(dataset, batch_size = BATCH_SIZE):\n",
    "\n",
    "            outputs = model(images.to(DEVICE).float()).data.cpu().numpy()\n",
    "            \n",
    "            for idx, prediction in enumerate(outputs):\n",
    "                \n",
    "                submission.loc[labels[idx].item(), ['healthy', 'multiple_diseases', 'rust', 'scab']] = prediction\n",
    "\n",
    "            pbar.update(len(labels))\n",
    "    \n",
    "    for idx in range(0, len(dataset)):\n",
    "        submission.loc[idx, 'image_id'] = 'Test_{}'.format(idx)\n",
    "                    \n",
    "    return submission"
   ]
  },
  {
   "cell_type": "markdown",
   "metadata": {},
   "source": [
    "## Efficient-Net Model"
   ]
  },
  {
   "cell_type": "code",
   "execution_count": 11,
   "metadata": {},
   "outputs": [
    {
     "name": "stderr",
     "output_type": "stream",
     "text": [
      "  0%|          | 0/1821 [00:00<?, ?it/s]"
     ]
    },
    {
     "name": "stdout",
     "output_type": "stream",
     "text": [
      "Loaded pretrained weights for efficientnet-b1\n"
     ]
    },
    {
     "name": "stderr",
     "output_type": "stream",
     "text": [
      "100%|██████████| 1821/1821 [02:06<00:00, 14.34it/s]\n"
     ]
    },
    {
     "data": {
      "image/png": "[encoded data removed]",
      "text/plain": [
       "<Figure size 432x288 with 1 Axes>"
      ]
     },
     "metadata": {
      "needs_background": "light"
     },
     "output_type": "display_data"
    }
   ],
   "source": [
    "from torch.utils.data import DataLoader\n",
    "\n",
    "efficient_net = EfficientNet.from_pretrained(MODEL_NAME, num_classes = 4).to(DEVICE)\n",
    "\n",
    "train_raw = PlantDataset(train = True)\n",
    "\n",
    "train_set, test_set = random_split(train_raw, [int(0.8 * len(train_raw)), len(train_raw) - int(0.8 * len(train_raw))])\n",
    "\n",
    "train(efficient_net, train_set, test_set, label = MODEL_NAME, ax = plt.subplot())\n",
    "\n",
    "submission = predict(efficient_net, PlantDataset(train = False))\n",
    "\n",
    "submission.to_csv('./dataset/submission_efficient_net_b1.csv', index = False)"
   ]
  }
 ],
 "metadata": {
  "kernelspec": {
   "display_name": "Python 3",
   "language": "python",
   "name": "python3"
  },
  "language_info": {
   "codemirror_mode": {
    "name": "ipython",
    "version": 3
   },
   "file_extension": ".py",
   "mimetype": "text/x-python",
   "name": "python",
   "nbconvert_exporter": "python",
   "pygments_lexer": "ipython3",
   "version": "3.8.2"
  }
 },
 "nbformat": 4,
 "nbformat_minor": 4
}
