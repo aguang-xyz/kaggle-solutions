{
 "cells": [
  {
   "cell_type": "code",
   "execution_count": 10,
   "metadata": {},
   "outputs": [],
   "source": [
    "import numpy as np\n",
    "import pandas as pd\n",
    "import matplotlib.pyplot as plt\n",
    "import torch\n",
    "from tqdm import tqdm"
   ]
  },
  {
   "cell_type": "markdown",
   "metadata": {},
   "source": [
    "# Plant Pathology 2020 - FGVC7"
   ]
  },
  {
   "cell_type": "code",
   "execution_count": 11,
   "metadata": {},
   "outputs": [],
   "source": [
    "BATCH_SIZE = 8\n",
    "INPUT_SIZE = 500\n",
    "EPOCH_TIME = 100\n",
    "\n",
    "DEVICE = torch.device('cpu')"
   ]
  },
  {
   "cell_type": "markdown",
   "metadata": {},
   "source": [
    "## Data Loading"
   ]
  },
  {
   "cell_type": "markdown",
   "metadata": {},
   "source": [
    "The code above shows how I load the data sets. 80% of the training set will be used for training, and the other 20% will be used for validation.\n",
    "\n",
    "Besides, I use these methods to augment training sets:\n",
    "\n",
    "* RandomGreyscale\n",
    "* RandomHorizontalFlip\n",
    "* RandomVerticalFlip\n",
    "* RandomRotation\n",
    "* RandomPerspective\n"
   ]
  },
  {
   "cell_type": "code",
   "execution_count": 28,
   "metadata": {},
   "outputs": [],
   "source": [
    "from torch.utils.data import Dataset, random_split\n",
    "from torchvision.transforms import RandomHorizontalFlip, RandomVerticalFlip, RandomGrayscale, RandomPerspective, RandomRotation\n",
    "from torchvision.transforms import Compose, Resize, Normalize, ToTensor\n",
    "from PIL import Image\n",
    "\n",
    "\n",
    "class PlantDataset(Dataset):\n",
    "    \n",
    "    def __init__(self, train = True):\n",
    "        \n",
    "        self.train = train\n",
    "        \n",
    "        self.dataset = pd.read_csv('./dataset/{}.csv'.format('train' if train else 'test'))\n",
    "        \n",
    "        if self.train:\n",
    "            \n",
    "            self.augment = Compose([\n",
    "                RandomGrayscale(),\n",
    "                RandomHorizontalFlip(),\n",
    "                RandomVerticalFlip(),\n",
    "                RandomRotation((-180, +180)),\n",
    "                RandomPerspective(),\n",
    "            ])\n",
    "            \n",
    "        self.transform = Compose([\n",
    "            Resize((INPUT_SIZE, INPUT_SIZE)),\n",
    "            ToTensor(),\n",
    "            Normalize((0.485, 0.456, 0.406), (0.229, 0.224, 0.225)),\n",
    "        ])\n",
    "        \n",
    "    def __len__(self):\n",
    "        \n",
    "        return self.dataset.shape[0]\n",
    "    \n",
    "    def __getitem__(self, index):\n",
    "        \n",
    "        image = Image.open('./dataset/images/{}.jpg'.format(self.dataset.loc[index, 'image_id']))\n",
    "        \n",
    "        if self.train:\n",
    "            image = self.augment(image)\n",
    "        \n",
    "        image = self.transform(image)\n",
    "        \n",
    "        if self.train:\n",
    "            \n",
    "            label = np.argmax(self.dataset.loc[index, ['healthy', 'multiple_diseases', 'rust', 'scab']].values)\n",
    "            \n",
    "            return image, label\n",
    "        else:\n",
    "            return image\n",
    "\n",
    "\n",
    "train_raw = PlantDataset()\n",
    "\n",
    "train_set, test_set = random_split(train_raw, [int(0.8 * len(train_raw)), len(train_raw) - int(0.8 * len(train_raw))])"
   ]
  },
  {
   "cell_type": "markdown",
   "metadata": {},
   "source": [
    "## CNN Model"
   ]
  },
  {
   "cell_type": "code",
   "execution_count": 13,
   "metadata": {},
   "outputs": [],
   "source": [
    "from torch.nn import Module, Linear, Sequential, Conv2d, BatchNorm2d, ReLU, MaxPool2d\n",
    "\n",
    "\n",
    "class CNN(Module):\n",
    "    \n",
    "    def __init__(self):\n",
    "        super(CNN, self).__init__()\n",
    "        \n",
    "        # (BATCH_SIZE, 3, INPUT_SIZE x INPUT_SIZE), (BATCH_SIZE, 32, (INPUT_SIZE / 4), (INPUT_SIZE x 4))\n",
    "        self.layer = Sequential(\n",
    "            \n",
    "            Conv2d(3, 16, kernel_size = 5, stride = 1, padding = 2),\n",
    "            BatchNorm2d(16),\n",
    "            ReLU(),\n",
    "            MaxPool2d(kernel_size = 2, stride = 2),\n",
    "            \n",
    "            Conv2d(16, 32, kernel_size = 5, stride = 1, padding = 2),\n",
    "            BatchNorm2d(32),\n",
    "            ReLU(),\n",
    "            MaxPool2d(kernel_size = 2, stride = 2))\n",
    "        \n",
    "        # (BATCH_SIZE, 32 x (INPUT_SIZE / 4) x (INPUT_SIZE x 4)) -> (BATCH_SIZE, 4)\n",
    "        self.fc = Linear(32 * (INPUT_SIZE // 4) * (INPUT_SIZE // 4), 4)\n",
    "        \n",
    "    def forward(self, x):\n",
    "        \n",
    "        y = self.layer(x.reshape(-1, 3, INPUT_SIZE, INPUT_SIZE))\n",
    "        \n",
    "        return self.fc(y.reshape(-1, 32 * (INPUT_SIZE // 4) * (INPUT_SIZE // 4)))\n",
    "\n",
    "\n",
    "cnn = CNN().to(DEVICE)"
   ]
  },
  {
   "cell_type": "markdown",
   "metadata": {},
   "source": [
    "## Model Training"
   ]
  },
  {
   "cell_type": "code",
   "execution_count": null,
   "metadata": {},
   "outputs": [
    {
     "name": "stderr",
     "output_type": "stream",
     "text": [
      "  5%|▍         | 8928/182400 [31:51<8:11:31,  5.88it/s, loss=1.6, score=0.425]  "
     ]
    }
   ],
   "source": [
    "import os\n",
    "import json\n",
    "from torch.utils.data import DataLoader\n",
    "from torch.optim import Adam\n",
    "from torch.nn import CrossEntropyLoss\n",
    "\n",
    "\n",
    "def validate(model, test_loader, pbar):\n",
    "\n",
    "    correct, total = 0, 0\n",
    "    \n",
    "    with torch.no_grad():\n",
    "        for images, labels in test_loader:\n",
    "            \n",
    "            outputs = model(images.to(DEVICE).float())\n",
    "            \n",
    "            _, predictions = torch.max(outputs.data, 1)\n",
    "            \n",
    "            predictions = predictions.cpu().numpy()\n",
    "            \n",
    "            for idx, prediction in enumerate(predictions):\n",
    "                \n",
    "                if prediction == labels[idx]:\n",
    "                    correct = correct + 1\n",
    "            \n",
    "                total = total + 1\n",
    "                \n",
    "            pbar.update(BATCH_SIZE)\n",
    "                \n",
    "    return correct / total\n",
    "\n",
    "\n",
    "def train(model, train_set, test_set, ax = None, label = None):\n",
    "\n",
    "    if (lable is not None) and os.path.isfile('./checkpoints/{}.ckpt'.format(label)):\n",
    "        model.load_state_dict('./checkpoints/{}.ckpt'.format(label))\n",
    "    \n",
    "    \n",
    "    criterion = CrossEntropyLoss()\n",
    "    optimizer = Adam(model.parameters())\n",
    "    \n",
    "    \n",
    "    scores, losses = [], []\n",
    "    \n",
    "    if (lable is not None) and os.path.isfile('./checkpoints/{}.scores.json'.format(label)):\n",
    "        with open('./checkpoints/{}.scores.json'.format(label), 'r') as file:\n",
    "            scores = json.load(file)\n",
    "            \n",
    "    if (lable is not None) and os.path.isfile('./checkpoints/{}.losses.json'.format(label)):\n",
    "        with open('./checkpoints/{}.losses.json'.format(label), 'r') as file:\n",
    "            losses = json.load(file)\n",
    "    \n",
    "    \n",
    "    train_loader = DataLoader(train_set, batch_size = BATCH_SIZE)\n",
    "    test_loader = DataLoader(test_set, batch_size = BATCH_SIZE)\n",
    "    \n",
    "    \n",
    "    with tqdm(total = EPOCH_TIME * (len(train_loader) + len(test_loader)) * BATCH_SIZE) as pbar:\n",
    "        for epoch in range(0, EPOCH_TIME):\n",
    "\n",
    "            for idx, (images, labels) in enumerate(train_loader):\n",
    "\n",
    "                outputs = model(images.to(DEVICE).float())\n",
    "                loss = criterion(outputs, labels.to(DEVICE))\n",
    "\n",
    "                optimizer.zero_grad()\n",
    "                loss.backward()\n",
    "                optimizer.step()\n",
    "                \n",
    "                pbar.update(BATCH_SIZE)\n",
    "\n",
    "            loss = loss.cpu().item()\n",
    "            score = validate(model, test_loader, pbar)\n",
    "            \n",
    "            pbar.set_postfix(loss = loss, score = score)\n",
    "            \n",
    "            losses.append(loss)\n",
    "            scores.append(score)\n",
    "            \n",
    "    if ax is not None:\n",
    "        \n",
    "        ax.plot(scores, label = 'score')\n",
    "        ax.plot(losses, label = 'loss')\n",
    "\n",
    "        ax.legend()\n",
    "\n",
    "\n",
    "train(cnn, train_set, test_set, ax = plt.subplot())"
   ]
  },
  {
   "cell_type": "code",
   "execution_count": null,
   "metadata": {},
   "outputs": [],
   "source": []
  }
 ],
 "metadata": {
  "kernelspec": {
   "display_name": "Python 3",
   "language": "python",
   "name": "python3"
  },
  "language_info": {
   "codemirror_mode": {
    "name": "ipython",
    "version": 3
   },
   "file_extension": ".py",
   "mimetype": "text/x-python",
   "name": "python",
   "nbconvert_exporter": "python",
   "pygments_lexer": "ipython3",
   "version": "3.8.2"
  }
 },
 "nbformat": 4,
 "nbformat_minor": 4
}
